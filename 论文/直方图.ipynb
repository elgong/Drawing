{
 "cells": [
  {
   "cell_type": "markdown",
   "metadata": {},
   "source": []
  },
  {
   "cell_type": "code",
   "execution_count": 44,
   "metadata": {},
   "outputs": [
    {
     "name": "stdout",
     "output_type": "stream",
     "text": [
      "savefig...\n"
     ]
    }
   ],
   "source": [
    "# 直方图 or  堆叠直方图\n",
    "##################  保存成pdf  放入word格式更清晰\n",
    "# Plot Bars\n",
    "\n",
    "from pylab import *\n",
    "from matplotlib.backends.backend_pdf import PdfPages\n",
    "\n",
    "import matplotlib.pyplot as plt\n",
    "import random\n",
    "\n",
    "%matplotlib inline\n",
    "\n",
    "# ##### 以下设置画图后，显示中文 分辨率也比默认高很多\n",
    "# plt.rcParams['font.sans-serif']=['SimHei']\n",
    "# plt.rcParams['axes.unicode_minus'] = False\n",
    "plt.rcParams['savefig.dpi'] = 120 #图片像素\n",
    "#plt.rcParams['figure.dpi'] = 1200 #分辨率\n",
    "\n",
    "\n",
    "# x,y \n",
    "x = [\"ESR\", \"SDM\", \"MTCNN\", \"PNMS-linear\", \"PNMS-nonlinear\", \"PNMS-Gaussian\", \"ours\", \"DAN\"]\n",
    "y = [13, 8.5, 6.9, 6.8, 6.88, 7.36, 5., 4.6]\n",
    "# y1 = [20 for i in range(20)]\n",
    "\n",
    "\n",
    "# 随机颜色\n",
    "all_colors = list(plt.cm.colors.cnames.keys())\n",
    "\n",
    "random.seed(111)\n",
    "\n",
    "\n",
    "# num = 类别+1\n",
    "num = 9 + 1\n",
    "c = random.choices(all_colors, k=num)\n",
    "\n",
    "plt.figure(figsize=(20,18), dpi= 40)\n",
    "\n",
    "# plt.bar(x,y1, color=c, width=.5, fc = \"r\", label=u'original img')\n",
    "\n",
    "# 从y1 堆叠上去\n",
    "plt.bar(x,y,color=c, width=.5,label=u'new labeled img')\n",
    "\n",
    "for i, val in enumerate(y):\n",
    "\n",
    "    plt.text(i, val, float(val), horizontalalignment='center', verticalalignment='bottom', fontdict={'fontweight':500, 'size':12},fontsize=22)\n",
    "\n",
    "\n",
    " \n",
    "pdf = PdfPages('1111des_file_name.pdf')\n",
    "\n",
    "\n",
    "# Decoration\n",
    "\n",
    "# 坐标轴刻度设置\n",
    "plt.gca().set_xticklabels(x, rotation=40, horizontalalignment= 'right', fontsize=20)\n",
    "\n",
    "plt.ylim(0, 15)\n",
    "\n",
    "\n",
    "# 标题\n",
    "# plt.title(u\"选择\", fontsize=22)\n",
    "\n",
    "\n",
    "# 坐标轴的label\n",
    "plt.xlabel('',fontsize=22)\n",
    "plt.ylabel('mean error(%)',fontsize=25)\n",
    "plt.yticks([0,2,4,6,8,10,12,14,15],size = 22)\n",
    "\n",
    "## 图例\n",
    "# plt.legend(fontsize = 22)\n",
    "\n",
    "# plt.tight_layout()\n",
    "# plt.show()\n",
    "print( 'savefig...')\n",
    "pdf.savefig()\n",
    "plt.close()\n",
    "pdf.close()"
   ]
  },
  {
   "cell_type": "code",
   "execution_count": null,
   "metadata": {},
   "outputs": [],
   "source": []
  }
 ],
 "metadata": {
  "kernelspec": {
   "display_name": "Python 3",
   "language": "python",
   "name": "python3"
  },
  "language_info": {
   "codemirror_mode": {
    "name": "ipython",
    "version": 3
   },
   "file_extension": ".py",
   "mimetype": "text/x-python",
   "name": "python",
   "nbconvert_exporter": "python",
   "pygments_lexer": "ipython3",
   "version": "3.6.8"
  }
 },
 "nbformat": 4,
 "nbformat_minor": 2
}
