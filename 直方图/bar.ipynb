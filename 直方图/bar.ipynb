{
 "cells": [
  {
   "cell_type": "code",
   "execution_count": 33,
   "metadata": {},
   "outputs": [
    {
     "name": "stdout",
     "output_type": "stream",
     "text": [
      "savefig...\n"
     ]
    }
   ],
   "source": [
    "# 直方图\n",
    "##################  保存成pdf  放入word格式更清晰\n",
    "# Plot Bars\n",
    "\n",
    "from pylab import *\n",
    "from matplotlib.backends.backend_pdf import PdfPages\n",
    "\n",
    "import matplotlib.pyplot as plt\n",
    "import random\n",
    "%matplotlib inline\n",
    "\n",
    "# ##### 以下设置画图后，显示中文 分辨率也比默认高很多\n",
    "# plt.rcParams['font.sans-serif']=['SimHei']\n",
    "# plt.rcParams['axes.unicode_minus'] = False\n",
    "plt.rcParams['savefig.dpi'] = 480 #图片像素\n",
    "#plt.rcParams['figure.dpi'] = 1200 #分辨率\n",
    "\n",
    "x = [\"apple\", \"beetle\", \"bicycle\", \"chair\", \"cup\", \"road\", \"worm\", \"keyboard\", \"motorcycle\",\n",
    "         \"wolf\", \"trout\", \"skyscraper\", \"tank\", \"shark\", \"kangaroo\", \"plate\", \"poppy\",\n",
    "         \"camel\", \"man\", \"sunflower\"]\n",
    "y = [254, 247,144,290,106,307,99,85,301,102,148,246,215,220,35,195,200,56,61,288]\n",
    "\n",
    "\n",
    "\n",
    "# 随机颜色\n",
    "all_colors = list(plt.cm.colors.cnames.keys())\n",
    "\n",
    "random.seed(100)\n",
    "\n",
    "\n",
    "# num = 类别+1\n",
    "num = 20 + 1\n",
    "c = random.choices(all_colors, k=num)\n",
    "\n",
    "plt.figure(figsize=(16,10), dpi= 400)\n",
    "\n",
    "plt.bar(x,y, color=c, width=.5)\n",
    "\n",
    "for i, val in enumerate(y):\n",
    "\n",
    "    plt.text(i, val, int(val), horizontalalignment='center', verticalalignment='bottom', fontdict={'fontweight':500, 'size':12},fontsize=22)\n",
    "\n",
    "\n",
    " \n",
    "pdf = PdfPages('des_file_name.pdf')\n",
    "# Decoration\n",
    "\n",
    "plt.gca().set_xticklabels(x, rotation=60, horizontalalignment= 'right', fontsize=23)\n",
    "plt.gca().set_yticklabels([0,50,100,150,200,250,300,250,400] ,fontsize=23)\n",
    "\n",
    "# plt.title(u\"选择\", fontsize=22)\n",
    "\n",
    "plt.ylabel('choosed num',fontsize=25)\n",
    "plt.xlabel('class',fontsize=25)\n",
    "\n",
    "plt.ylim(0, 400)\n",
    "plt.tight_layout()\n",
    "#plt.show()\n",
    "print( 'savefig...')\n",
    "pdf.savefig()\n",
    "plt.close()\n",
    "pdf.close()"
   ]
  },
  {
   "cell_type": "code",
   "execution_count": null,
   "metadata": {},
   "outputs": [],
   "source": []
  }
 ],
 "metadata": {
  "kernelspec": {
   "display_name": "Python 3",
   "language": "python",
   "name": "python3"
  },
  "language_info": {
   "codemirror_mode": {
    "name": "ipython",
    "version": 3
   },
   "file_extension": ".py",
   "mimetype": "text/x-python",
   "name": "python",
   "nbconvert_exporter": "python",
   "pygments_lexer": "ipython3",
   "version": "3.6.8"
  }
 },
 "nbformat": 4,
 "nbformat_minor": 2
}
