{
 "cells": [
  {
   "cell_type": "code",
   "execution_count": 6,
   "metadata": {},
   "outputs": [
    {
     "name": "stdout",
     "output_type": "stream",
     "text": [
      "savefig...\n"
     ]
    }
   ],
   "source": [
    "# 散点图\n",
    "\n",
    "\n",
    "from matplotlib import pyplot as plt\n",
    "import numpy as np\n",
    "from pylab import *\n",
    "\n",
    "from matplotlib.backends.backend_pdf import PdfPages\n",
    "%matplotlib inline\n",
    "\n",
    "\n",
    "# ##### 以下设置画图后，显示中文 分辨率也比默认高很多\n",
    "# plt.rcParams['font.sans-serif']=['SimHei']\n",
    "# plt.rcParams['axes.unicode_minus'] = False\n",
    "plt.rcParams['savefig.dpi'] = 120 #图片像素\n",
    "#plt.rcParams['figure.dpi'] = 1200 #分辨率\n",
    "\n",
    "pdf = PdfPages('scatter.pdf')\n",
    "\n",
    "mu_vecl = np.array([0, 0])\n",
    "cov_matl = np.array([[2,0],[0,2]])\n",
    "\n",
    "x1_samples = np.random.multivariate_normal(mu_vecl, cov_matl,100)\n",
    "x2_samples = np.random.multivariate_normal(mu_vecl+0.2, cov_matl +0.2, 100)\n",
    "x3_samples = np.random.multivariate_normal(mu_vecl+0.4, cov_matl +0.4, 100)\n",
    "\n",
    "plt.figure(figsize = (8, 6))\n",
    "\n",
    "plt.scatter(x1_samples[:,0], x1_samples[:, 1], marker='x',\n",
    "           color = 'blue', alpha=0.7, label = 'x1 samples')\n",
    "plt.scatter(x2_samples[:,0], x1_samples[:,1], marker='o',\n",
    "           color ='green', alpha=0.7, label = 'x2 samples')\n",
    "plt.scatter(x3_samples[:,0], x1_samples[:,1], marker='^',\n",
    "           color ='red', alpha=0.7, label = 'x3 samples')\n",
    "plt.title('Basic scatter plot')\n",
    "plt.ylabel('variable X')\n",
    "plt.xlabel('Variable Y')\n",
    "plt.legend(loc = 'upper right')\n",
    "print( 'savefig...')\n",
    "pdf.savefig()\n",
    "plt.close()\n",
    "pdf.close()\n",
    "# plt.show()\n",
    "\n"
   ]
  },
  {
   "cell_type": "code",
   "execution_count": null,
   "metadata": {},
   "outputs": [],
   "source": []
  }
 ],
 "metadata": {
  "kernelspec": {
   "display_name": "Python 3",
   "language": "python",
   "name": "python3"
  },
  "language_info": {
   "codemirror_mode": {
    "name": "ipython",
    "version": 3
   },
   "file_extension": ".py",
   "mimetype": "text/x-python",
   "name": "python",
   "nbconvert_exporter": "python",
   "pygments_lexer": "ipython3",
   "version": "3.6.8"
  }
 },
 "nbformat": 4,
 "nbformat_minor": 2
}
